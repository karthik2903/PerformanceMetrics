{
 "cells": [
  {
   "cell_type": "markdown",
   "metadata": {
    "colab_type": "text",
    "id": "s0Ej_bXyQvnV"
   },
   "source": [
    "# Compute performance metrics for the given Y and Y_score without sklearn"
   ]
  },
  {
   "cell_type": "code",
   "execution_count": 15,
   "metadata": {
    "colab": {},
    "colab_type": "code",
    "id": "4CHb6NE7Qvnc"
   },
   "outputs": [],
   "source": [
    "import numpy as np\n",
    "import pandas as pd\n",
    "import matplotlib.pyplot as plt\n",
    "# other than these two you should not import any other packages"
   ]
  },
  {
   "cell_type": "markdown",
   "metadata": {},
   "source": [
    "# Task A"
   ]
  },
  {
   "cell_type": "markdown",
   "metadata": {
    "colab_type": "text",
    "id": "KbsWXuDaQvnq"
   },
   "source": [
    "<pre>\n",
    "<font color='red'><b>A.</b></font> Compute performance metrics for the given data <strong>5_a.csv</strong>\n",
    "   <b>Note 1:</b> in this data you can see number of positive points >> number of negatives points\n",
    "   <b>Note 2:</b> use pandas or numpy to read the data from <b>5_a.csv</b>\n",
    "   <b>Note 3:</b> you need to derive the class labels from given score</pre> $y^{pred}= \\text{[0 if y_score < 0.5 else 1]}$\n",
    "\n",
    "<pre>\n",
    "<ol>\n",
    "<li> Compute Confusion Matrix </li>\n",
    "<li> Compute F1 Score </li>\n",
    "<li> Compute AUC Score, you need to compute different thresholds and for each threshold compute tpr,fpr and then use               numpy.trapz(tpr_array, fpr_array) <a href='https://stackoverflow.com/q/53603376/4084039'>https://stackoverflow.com/q/53603376/4084039</a>, <a href='https://stackoverflow.com/a/39678975/4084039'>https://stackoverflow.com/a/39678975/4084039</a> Note: it should be numpy.trapz(tpr_array, fpr_array) not numpy.trapz(fpr_array, tpr_array)</li>\n",
    "<li> Compute Accuracy Score </li>\n",
    "</ol>\n",
    "</pre>"
   ]
  },
  {
   "cell_type": "code",
   "execution_count": 55,
   "metadata": {
    "colab": {},
    "colab_type": "code",
    "id": "WaFLW7oBQvnt"
   },
   "outputs": [
    {
     "data": {
      "text/html": [
       "<div>\n",
       "<style scoped>\n",
       "    .dataframe tbody tr th:only-of-type {\n",
       "        vertical-align: middle;\n",
       "    }\n",
       "\n",
       "    .dataframe tbody tr th {\n",
       "        vertical-align: top;\n",
       "    }\n",
       "\n",
       "    .dataframe thead th {\n",
       "        text-align: right;\n",
       "    }\n",
       "</style>\n",
       "<table border=\"1\" class=\"dataframe\">\n",
       "  <thead>\n",
       "    <tr style=\"text-align: right;\">\n",
       "      <th></th>\n",
       "      <th>y</th>\n",
       "      <th>proba</th>\n",
       "    </tr>\n",
       "  </thead>\n",
       "  <tbody>\n",
       "    <tr>\n",
       "      <td>0</td>\n",
       "      <td>1.0</td>\n",
       "      <td>0.637387</td>\n",
       "    </tr>\n",
       "    <tr>\n",
       "      <td>1</td>\n",
       "      <td>1.0</td>\n",
       "      <td>0.635165</td>\n",
       "    </tr>\n",
       "  </tbody>\n",
       "</table>\n",
       "</div>"
      ],
      "text/plain": [
       "     y     proba\n",
       "0  1.0  0.637387\n",
       "1  1.0  0.635165"
      ]
     },
     "execution_count": 55,
     "metadata": {},
     "output_type": "execute_result"
    }
   ],
   "source": [
    "# write your code here\n",
    "\n",
    "data=pd.read_csv('5_a.csv')\n",
    "data.head(2)"
   ]
  },
  {
   "cell_type": "code",
   "execution_count": 56,
   "metadata": {},
   "outputs": [
    {
     "data": {
      "text/html": [
       "<div>\n",
       "<style scoped>\n",
       "    .dataframe tbody tr th:only-of-type {\n",
       "        vertical-align: middle;\n",
       "    }\n",
       "\n",
       "    .dataframe tbody tr th {\n",
       "        vertical-align: top;\n",
       "    }\n",
       "\n",
       "    .dataframe thead th {\n",
       "        text-align: right;\n",
       "    }\n",
       "</style>\n",
       "<table border=\"1\" class=\"dataframe\">\n",
       "  <thead>\n",
       "    <tr style=\"text-align: right;\">\n",
       "      <th></th>\n",
       "      <th>y</th>\n",
       "      <th>proba</th>\n",
       "      <th>Y_Pred</th>\n",
       "    </tr>\n",
       "  </thead>\n",
       "  <tbody>\n",
       "    <tr>\n",
       "      <td>0</td>\n",
       "      <td>1.0</td>\n",
       "      <td>0.637387</td>\n",
       "      <td>1</td>\n",
       "    </tr>\n",
       "    <tr>\n",
       "      <td>1</td>\n",
       "      <td>1.0</td>\n",
       "      <td>0.635165</td>\n",
       "      <td>1</td>\n",
       "    </tr>\n",
       "    <tr>\n",
       "      <td>2</td>\n",
       "      <td>1.0</td>\n",
       "      <td>0.766586</td>\n",
       "      <td>1</td>\n",
       "    </tr>\n",
       "    <tr>\n",
       "      <td>3</td>\n",
       "      <td>1.0</td>\n",
       "      <td>0.724564</td>\n",
       "      <td>1</td>\n",
       "    </tr>\n",
       "    <tr>\n",
       "      <td>4</td>\n",
       "      <td>1.0</td>\n",
       "      <td>0.889199</td>\n",
       "      <td>1</td>\n",
       "    </tr>\n",
       "    <tr>\n",
       "      <td>...</td>\n",
       "      <td>...</td>\n",
       "      <td>...</td>\n",
       "      <td>...</td>\n",
       "    </tr>\n",
       "    <tr>\n",
       "      <td>10095</td>\n",
       "      <td>1.0</td>\n",
       "      <td>0.665371</td>\n",
       "      <td>1</td>\n",
       "    </tr>\n",
       "    <tr>\n",
       "      <td>10096</td>\n",
       "      <td>1.0</td>\n",
       "      <td>0.607961</td>\n",
       "      <td>1</td>\n",
       "    </tr>\n",
       "    <tr>\n",
       "      <td>10097</td>\n",
       "      <td>1.0</td>\n",
       "      <td>0.777724</td>\n",
       "      <td>1</td>\n",
       "    </tr>\n",
       "    <tr>\n",
       "      <td>10098</td>\n",
       "      <td>1.0</td>\n",
       "      <td>0.846036</td>\n",
       "      <td>1</td>\n",
       "    </tr>\n",
       "    <tr>\n",
       "      <td>10099</td>\n",
       "      <td>1.0</td>\n",
       "      <td>0.679507</td>\n",
       "      <td>1</td>\n",
       "    </tr>\n",
       "  </tbody>\n",
       "</table>\n",
       "<p>10100 rows × 3 columns</p>\n",
       "</div>"
      ],
      "text/plain": [
       "         y     proba  Y_Pred\n",
       "0      1.0  0.637387       1\n",
       "1      1.0  0.635165       1\n",
       "2      1.0  0.766586       1\n",
       "3      1.0  0.724564       1\n",
       "4      1.0  0.889199       1\n",
       "...    ...       ...     ...\n",
       "10095  1.0  0.665371       1\n",
       "10096  1.0  0.607961       1\n",
       "10097  1.0  0.777724       1\n",
       "10098  1.0  0.846036       1\n",
       "10099  1.0  0.679507       1\n",
       "\n",
       "[10100 rows x 3 columns]"
      ]
     },
     "execution_count": 56,
     "metadata": {},
     "output_type": "execute_result"
    }
   ],
   "source": [
    "def label(proba):\n",
    "    if proba>0.5:\n",
    "        return 1\n",
    "    else:\n",
    "        return 0\n",
    "data['Y_Pred']= data.apply(lambda row:label(row.proba),axis=1)\n",
    "data"
   ]
  },
  {
   "cell_type": "markdown",
   "metadata": {},
   "source": [
    "# Confusion Matrix"
   ]
  },
  {
   "cell_type": "code",
   "execution_count": 57,
   "metadata": {},
   "outputs": [
    {
     "name": "stdout",
     "output_type": "stream",
     "text": [
      "0 0 10000 100\n",
      "10100\n"
     ]
    }
   ],
   "source": [
    "TN=0\n",
    "FP=0\n",
    "TP=0\n",
    "FN=0\n",
    "\n",
    "for i in range(len(data.Y_Pred)):\n",
    "    if data.iloc[i][0]==0:\n",
    "        if data.iloc[i][2]==0:\n",
    "            TN=TN+1\n",
    "        elif data.iloc[i][2]==1:\n",
    "            FP=FP+1\n",
    "    elif data.iloc[i][0]==1:\n",
    "        if data.iloc[i][2]==0:\n",
    "            FN=FN+1\n",
    "        elif data.iloc[i][2]==1:\n",
    "            TP=TP+1\n",
    "print(TN,FN,TP,FP)\n",
    "print(len(data.Y_Pred))"
   ]
  },
  {
   "cell_type": "markdown",
   "metadata": {},
   "source": [
    "# F1 Score"
   ]
  },
  {
   "cell_type": "code",
   "execution_count": 58,
   "metadata": {},
   "outputs": [
    {
     "name": "stdout",
     "output_type": "stream",
     "text": [
      "10000\n",
      "100\n",
      "Recall: 1.0\n",
      "Precision: 0.9900990099009901\n",
      "F1_Score: 0.9950248756218906\n",
      "Accuracy: 0.9900990099009901\n"
     ]
    }
   ],
   "source": [
    "P=0\n",
    "N=0\n",
    "TPR=0\n",
    "Pr=0\n",
    "Re=0\n",
    "F1=0\n",
    "for i in range(len(data.Y_Pred)):\n",
    "    if data.iloc[i][0]==1:\n",
    "        P=P+1\n",
    "print(P)\n",
    "for i in range(len(data.Y_Pred)):\n",
    "    if data.iloc[i][0]==0:\n",
    "        N=N+1\n",
    "print(N)\n",
    "Precision=(TP/(TP+FP))\n",
    "Recall=(TP/(TP+FN))\n",
    "F1_Score = ((2*Precision*Recall)/(Precision+Recall))\n",
    "\n",
    "Accuracy=((TN+TP)/(len(data.Y_Pred)))\n",
    "print('Recall:',Recall)\n",
    "print('Precision:',Precision)\n",
    "print('F1_Score:',F1_Score)\n",
    "print('Accuracy:',Accuracy)"
   ]
  },
  {
   "cell_type": "code",
   "execution_count": 59,
   "metadata": {},
   "outputs": [
    {
     "name": "stdout",
     "output_type": "stream",
     "text": [
      "0.89982484614942\n"
     ]
    }
   ],
   "source": [
    "Y_Unique=data['proba'].unique()\n",
    "Y_Sorted=sorted(Y_Unique, reverse=True)\n",
    "len(Y_Sorted)\n",
    "print(Y_Sorted[2])"
   ]
  },
  {
   "cell_type": "markdown",
   "metadata": {},
   "source": [
    "# Threshold"
   ]
  },
  {
   "cell_type": "code",
   "execution_count": 60,
   "metadata": {},
   "outputs": [
    {
     "name": "stdout",
     "output_type": "stream",
     "text": [
      "0.8999653487823838\n",
      "0.8789433467386063\n",
      "0.8586802522675053\n",
      "0.8367123843724431\n",
      "0.8152561086276665\n",
      "0.7939112121227851\n",
      "0.7727822752553082\n",
      "0.7542612391647749\n",
      "0.7350780957724631\n",
      "0.7158581925180078\n",
      "0.6970089962073902\n",
      "0.6778537607355049\n",
      "0.6592325052519856\n",
      "0.6390345012312024\n",
      "0.6197965132162059\n",
      "0.600521990944984\n",
      "0.5782148375959256\n",
      "0.5596598747232789\n",
      "0.5390419204554349\n",
      "0.5189471886154078\n",
      "[0.0, 0.0499, 0.0997, 0.1498, 0.2, 0.2499, 0.3001, 0.3498, 0.3997, 0.4499, 0.4998, 0.5497, 0.6001, 0.65, 0.6997, 0.7497, 0.7996, 0.8498, 0.9001, 0.9503]\n",
      "[0.0, 0.06, 0.13, 0.17, 0.2, 0.26, 0.29, 0.37, 0.43, 0.46, 0.52, 0.58, 0.59, 0.65, 0.73, 0.78, 0.84, 0.87, 0.89, 0.92]\n"
     ]
    }
   ],
   "source": [
    "FPR=[]\n",
    "TPR=[]\n",
    "def label(proba,Y):\n",
    "    if proba>Y:\n",
    "        return 1.0\n",
    "    else:\n",
    "        return 0.0\n",
    "num1=(len(Y_Sorted)/20) \n",
    "num2=int(num1)\n",
    "for j in range(20):\n",
    "    j=j*num2\n",
    "    TP=0\n",
    "    FP=0\n",
    "    data['Y_Pred'] = data.apply(lambda row:label(row.proba,Y_Sorted[j]),axis=1)\n",
    "    print(Y_Sorted[j])\n",
    "    for i in range(len(data.Y_Pred)):\n",
    "            if data.iloc[i][0]==0 and data.iloc[i][2]==1:\n",
    "                FP=FP+1\n",
    "            elif data.iloc[i][0]==1 and data.iloc[i][2]==1:\n",
    "                TP=TP+1   \n",
    "    TPR.append(TP/P)\n",
    "    FPR.append(FP/N)\n",
    "print(TPR)\n",
    "print(FPR)"
   ]
  },
  {
   "cell_type": "code",
   "execution_count": 61,
   "metadata": {},
   "outputs": [
    {
     "name": "stdout",
     "output_type": "stream",
     "text": [
      "AUC Score\n",
      "0.409868\n"
     ]
    },
    {
     "name": "stderr",
     "output_type": "stream",
     "text": [
      "No handles with labels found to put in legend.\n"
     ]
    },
    {
     "data": {
      "text/plain": [
       "<matplotlib.legend.Legend at 0x1af6006ae80>"
      ]
     },
     "execution_count": 61,
     "metadata": {},
     "output_type": "execute_result"
    },
    {
     "data": {
      "image/png": "[encoded data removed]",
      "text/plain": [
       "<Figure size 432x288 with 1 Axes>"
      ]
     },
     "metadata": {
      "needs_background": "light"
     },
     "output_type": "display_data"
    }
   ],
   "source": [
    "#AUC SCORE\n",
    "print('AUC Score')\n",
    "AUC=np.trapz(TPR,FPR)\n",
    "print(AUC)\n",
    "plt.plot(FPR,TPR)\n",
    "plt.grid()\n",
    "plt.xlabel('FPR')\n",
    "plt.ylabel('TPR')\n",
    "plt.legend()"
   ]
  },
  {
   "cell_type": "markdown",
   "metadata": {},
   "source": [
    "# Task B"
   ]
  },
  {
   "cell_type": "markdown",
   "metadata": {
    "colab_type": "text",
    "id": "V5KZem1BQvn2"
   },
   "source": [
    "<pre>\n",
    "<font color='red'><b>B.</b></font> Compute performance metrics for the given data <strong>5_b.csv</strong>\n",
    "   <b>Note 1:</b> in this data you can see number of positive points << number of negatives points\n",
    "   <b>Note 2:</b> use pandas or numpy to read the data from <b>5_b.csv</b>\n",
    "   <b>Note 3:</b> you need to derive the class labels from given score</pre> $y^{pred}= \\text{[0 if y_score < 0.5 else 1]}$\n",
    "\n",
    "<pre>\n",
    "<ol>\n",
    "<li> Compute Confusion Matrix </li>\n",
    "<li> Compute F1 Score </li>\n",
    "<li> Compute AUC Score, you need to compute different thresholds and for each threshold compute tpr,fpr and then use               numpy.trapz(tpr_array, fpr_array) <a href='https://stackoverflow.com/q/53603376/4084039'>https://stackoverflow.com/q/53603376/4084039</a>, <a href='https://stackoverflow.com/a/39678975/4084039'>https://stackoverflow.com/a/39678975/4084039</a></li>\n",
    "<li> Compute Accuracy Score </li>\n",
    "</ol>\n",
    "</pre>"
   ]
  },
  {
   "cell_type": "code",
   "execution_count": 62,
   "metadata": {
    "colab": {},
    "colab_type": "code",
    "id": "U2sKlq0YQvn5"
   },
   "outputs": [
    {
     "data": {
      "text/html": [
       "<div>\n",
       "<style scoped>\n",
       "    .dataframe tbody tr th:only-of-type {\n",
       "        vertical-align: middle;\n",
       "    }\n",
       "\n",
       "    .dataframe tbody tr th {\n",
       "        vertical-align: top;\n",
       "    }\n",
       "\n",
       "    .dataframe thead th {\n",
       "        text-align: right;\n",
       "    }\n",
       "</style>\n",
       "<table border=\"1\" class=\"dataframe\">\n",
       "  <thead>\n",
       "    <tr style=\"text-align: right;\">\n",
       "      <th></th>\n",
       "      <th>y</th>\n",
       "      <th>proba</th>\n",
       "      <th>Y_Pred</th>\n",
       "    </tr>\n",
       "  </thead>\n",
       "  <tbody>\n",
       "    <tr>\n",
       "      <td>0</td>\n",
       "      <td>0.0</td>\n",
       "      <td>0.281035</td>\n",
       "      <td>0</td>\n",
       "    </tr>\n",
       "    <tr>\n",
       "      <td>1</td>\n",
       "      <td>0.0</td>\n",
       "      <td>0.465152</td>\n",
       "      <td>0</td>\n",
       "    </tr>\n",
       "    <tr>\n",
       "      <td>2</td>\n",
       "      <td>0.0</td>\n",
       "      <td>0.352793</td>\n",
       "      <td>0</td>\n",
       "    </tr>\n",
       "    <tr>\n",
       "      <td>3</td>\n",
       "      <td>0.0</td>\n",
       "      <td>0.157818</td>\n",
       "      <td>0</td>\n",
       "    </tr>\n",
       "    <tr>\n",
       "      <td>4</td>\n",
       "      <td>0.0</td>\n",
       "      <td>0.276648</td>\n",
       "      <td>0</td>\n",
       "    </tr>\n",
       "    <tr>\n",
       "      <td>...</td>\n",
       "      <td>...</td>\n",
       "      <td>...</td>\n",
       "      <td>...</td>\n",
       "    </tr>\n",
       "    <tr>\n",
       "      <td>10095</td>\n",
       "      <td>0.0</td>\n",
       "      <td>0.474401</td>\n",
       "      <td>0</td>\n",
       "    </tr>\n",
       "    <tr>\n",
       "      <td>10096</td>\n",
       "      <td>0.0</td>\n",
       "      <td>0.128403</td>\n",
       "      <td>0</td>\n",
       "    </tr>\n",
       "    <tr>\n",
       "      <td>10097</td>\n",
       "      <td>0.0</td>\n",
       "      <td>0.499331</td>\n",
       "      <td>0</td>\n",
       "    </tr>\n",
       "    <tr>\n",
       "      <td>10098</td>\n",
       "      <td>0.0</td>\n",
       "      <td>0.157616</td>\n",
       "      <td>0</td>\n",
       "    </tr>\n",
       "    <tr>\n",
       "      <td>10099</td>\n",
       "      <td>0.0</td>\n",
       "      <td>0.296618</td>\n",
       "      <td>0</td>\n",
       "    </tr>\n",
       "  </tbody>\n",
       "</table>\n",
       "<p>10100 rows × 3 columns</p>\n",
       "</div>"
      ],
      "text/plain": [
       "         y     proba  Y_Pred\n",
       "0      0.0  0.281035       0\n",
       "1      0.0  0.465152       0\n",
       "2      0.0  0.352793       0\n",
       "3      0.0  0.157818       0\n",
       "4      0.0  0.276648       0\n",
       "...    ...       ...     ...\n",
       "10095  0.0  0.474401       0\n",
       "10096  0.0  0.128403       0\n",
       "10097  0.0  0.499331       0\n",
       "10098  0.0  0.157616       0\n",
       "10099  0.0  0.296618       0\n",
       "\n",
       "[10100 rows x 3 columns]"
      ]
     },
     "execution_count": 62,
     "metadata": {},
     "output_type": "execute_result"
    }
   ],
   "source": [
    "# write your code\n",
    "data_b=pd.read_csv('5_b.csv')\n",
    "\n",
    "def label(proba):\n",
    "    if proba>0.5:\n",
    "        return 1\n",
    "    else:\n",
    "        return 0\n",
    "data_b['Y_Pred']= data_b.apply(lambda row:label(row.proba),axis=1)\n",
    "data_b"
   ]
  },
  {
   "cell_type": "code",
   "execution_count": 63,
   "metadata": {},
   "outputs": [
    {
     "name": "stdout",
     "output_type": "stream",
     "text": [
      "Confusion Matrix\n",
      "9761 45 55 239\n",
      "10100\n"
     ]
    }
   ],
   "source": [
    "# Confusion Matrix\n",
    "print('Confusion Matrix')\n",
    "TN=0\n",
    "FP=0\n",
    "TP=0\n",
    "FN=0\n",
    "\n",
    "for i in range(len(data_b.Y_Pred)):\n",
    "    if data_b.iloc[i][0]==0:\n",
    "        if data_b.iloc[i][2]==0:\n",
    "            TN=TN+1\n",
    "        elif data_b.iloc[i][2]==1:\n",
    "            FP=FP+1\n",
    "    elif data_b.iloc[i][0]==1:\n",
    "        if data_b.iloc[i][2]==0:\n",
    "            FN=FN+1\n",
    "        elif data_b.iloc[i][2]==1:\n",
    "            TP=TP+1\n",
    "print(TN,FN,TP,FP)\n",
    "print(len(data_b.Y_Pred))"
   ]
  },
  {
   "cell_type": "code",
   "execution_count": 65,
   "metadata": {},
   "outputs": [
    {
     "name": "stdout",
     "output_type": "stream",
     "text": [
      "F1 Score\n",
      "100\n",
      "10000\n",
      "Recall: 0.55\n",
      "Precision: 0.1870748299319728\n",
      "F1_Score: 0.2791878172588833\n",
      "Accuracy: 0.9718811881188119\n",
      "10100\n",
      "0.5921978708413235\n"
     ]
    }
   ],
   "source": [
    "# F1 Score\n",
    "print('F1 Score')\n",
    "P=0\n",
    "N=0\n",
    "TPR=0\n",
    "Pr=0\n",
    "Re=0\n",
    "F1=0\n",
    "for i in range(len(data_b.Y_Pred)):\n",
    "    if data_b.iloc[i][0]==1:\n",
    "        P=P+1\n",
    "print(P)\n",
    "for i in range(len(data_b.Y_Pred)):\n",
    "    if data_b.iloc[i][0]==0:\n",
    "        N=N+1\n",
    "print(N)\n",
    "Precision=(TP/(TP+FP))\n",
    "Recall=(TP/(TP+FN))\n",
    "F1_Score = ((2*Precision*Recall)/(Precision+Recall))\n",
    "\n",
    "Accuracy=((TN+TP)/(len(data_b.Y_Pred)))\n",
    "print('Recall:',Recall)\n",
    "print('Precision:',Precision)\n",
    "print('F1_Score:',F1_Score)\n",
    "print('Accuracy:',Accuracy)\n",
    "Y_Unique=data_b['proba'].unique()\n",
    "Y_Sorted=sorted(Y_Unique, reverse=True)\n",
    "print(len(Y_Sorted))\n",
    "print(Y_Sorted[2])\n"
   ]
  },
  {
   "cell_type": "code",
   "execution_count": 73,
   "metadata": {},
   "outputs": [
    {
     "name": "stdout",
     "output_type": "stream",
     "text": [
      "Threshold\n",
      "0.5952941839776669\n",
      "0.507830143649192\n",
      "0.5034743922991184\n",
      "0.49958436886307894\n",
      "0.4951150787007373\n",
      "0.4908472361799197\n",
      "0.4859894623022954\n",
      "0.4826990640776901\n",
      "0.4785408535851918\n",
      "0.4741871304673919\n",
      "0.4708950648287342\n",
      "0.4668481812932028\n",
      "0.4627516056315592\n",
      "0.4586053227248274\n",
      "0.4541557689502512\n",
      "0.4505537071725685\n",
      "0.4467969718387781\n",
      "0.4429440697309405\n",
      "0.4395188416283383\n",
      "0.4356562545196748\n",
      "0.4313828121363624\n",
      "0.4272975479276155\n",
      "0.42367498534227\n",
      "0.4194993630110482\n",
      "0.415382627433729\n",
      "0.4108091972110284\n",
      "0.4059088882327659\n",
      "0.4017689799218327\n",
      "0.3977770161269245\n",
      "0.3937825954157905\n",
      "0.3900809570330236\n",
      "0.3849571776226062\n",
      "0.3807049752106503\n",
      "0.3768220684316719\n",
      "0.37269906540125053\n",
      "0.36920001085676346\n",
      "0.36470844840872496\n",
      "0.3603867640083367\n",
      "0.3563474811743952\n",
      "0.35216412484157045\n",
      "0.3477354265299383\n",
      "0.3438150680740197\n",
      "0.3399322305586455\n",
      "0.33512946874684824\n",
      "0.33055751590173765\n",
      "0.3259571205748201\n",
      "0.32184440121596314\n",
      "0.31716560254710063\n",
      "0.3122407679420378\n",
      "0.3077064695707288\n",
      "0.3033682781022237\n",
      "0.2989901551142857\n",
      "0.2952312548973214\n",
      "0.2912312909755657\n",
      "0.28678568695796863\n",
      "0.2825211071303742\n",
      "0.2790742180084569\n",
      "0.2747984457886057\n",
      "0.2703275591512816\n",
      "0.2660170463781174\n",
      "0.2618607771181933\n",
      "0.2577714221575972\n",
      "0.25404104604833594\n",
      "0.24951655988551755\n",
      "0.2450638814625273\n",
      "0.2406122464787674\n",
      "0.2361256815495876\n",
      "0.2323944521946173\n",
      "0.22872782981949585\n",
      "0.2247254133243166\n",
      "0.2210456886526\n",
      "0.21737236638594876\n",
      "0.2129956490120424\n",
      "0.20889628791086506\n",
      "0.20466349992396268\n",
      "0.20105569467081247\n",
      "0.19651982475533075\n",
      "0.19289520474061486\n",
      "0.1879938084582261\n",
      "0.1839655283624213\n",
      "0.1801978740144664\n",
      "0.17642377611734145\n",
      "0.17239097179212015\n",
      "0.1687041111816059\n",
      "0.16483322306199671\n",
      "0.16107957991870514\n",
      "0.15705213949009506\n",
      "0.1528867551559986\n",
      "0.14841976250021086\n",
      "0.14442522494749574\n",
      "0.14056470328007295\n",
      "0.13655939686868487\n",
      "0.13298701128467674\n",
      "0.12957824932554235\n",
      "0.12450525577232392\n",
      "0.12008081292377147\n",
      "0.116310475113392\n",
      "0.11253177378370616\n",
      "0.10856680795763897\n",
      "0.104052295804322\n",
      "[0.0, 0.52, 0.53, 0.55, 0.56, 0.58, 0.6, 0.63, 0.67, 0.71, 0.71, 0.73, 0.75, 0.77, 0.77, 0.79, 0.8, 0.82, 0.85, 0.89, 0.9, 0.9, 0.9, 0.92, 0.94, 0.95, 0.98, 0.99, 1.0, 1.0, 1.0, 1.0, 1.0, 1.0, 1.0, 1.0, 1.0, 1.0, 1.0, 1.0, 1.0, 1.0, 1.0, 1.0, 1.0, 1.0, 1.0, 1.0, 1.0, 1.0, 1.0, 1.0, 1.0, 1.0, 1.0, 1.0, 1.0, 1.0, 1.0, 1.0, 1.0, 1.0, 1.0, 1.0, 1.0, 1.0, 1.0, 1.0, 1.0, 1.0, 1.0, 1.0, 1.0, 1.0, 1.0, 1.0, 1.0, 1.0, 1.0, 1.0, 1.0, 1.0, 1.0, 1.0, 1.0, 1.0, 1.0, 1.0, 1.0, 1.0, 1.0, 1.0, 1.0, 1.0, 1.0, 1.0, 1.0, 1.0, 1.0, 1.0]\n",
      "[0.0, 0.0049, 0.0149, 0.0248, 0.0348, 0.0447, 0.0546, 0.0644, 0.0741, 0.0838, 0.0939, 0.1038, 0.1137, 0.1236, 0.1337, 0.1436, 0.1536, 0.1635, 0.1733, 0.183, 0.193, 0.2031, 0.2132, 0.2231, 0.233, 0.243, 0.2528, 0.2628, 0.2728, 0.2829, 0.293, 0.3031, 0.3132, 0.3233, 0.3334, 0.3435, 0.3536, 0.3637, 0.3738, 0.3839, 0.394, 0.4041, 0.4142, 0.4243, 0.4344, 0.4445, 0.4546, 0.4647, 0.4748, 0.4849, 0.495, 0.5051, 0.5152, 0.5253, 0.5354, 0.5455, 0.5556, 0.5657, 0.5758, 0.5859, 0.596, 0.6061, 0.6162, 0.6263, 0.6364, 0.6465, 0.6566, 0.6667, 0.6768, 0.6869, 0.697, 0.7071, 0.7172, 0.7273, 0.7374, 0.7475, 0.7576, 0.7677, 0.7778, 0.7879, 0.798, 0.8081, 0.8182, 0.8283, 0.8384, 0.8485, 0.8586, 0.8687, 0.8788, 0.8889, 0.899, 0.9091, 0.9192, 0.9293, 0.9394, 0.9495, 0.9596, 0.9697, 0.9798, 0.9899]\n"
     ]
    }
   ],
   "source": [
    "# Threshold\n",
    "print('Threshold')\n",
    "FPR=[]\n",
    "TPR=[]\n",
    "def label(proba,Y):\n",
    "    if proba>Y:\n",
    "        return 1.0\n",
    "    else:\n",
    "        return 0.0\n",
    "num1=(len(Y_Sorted)/100) \n",
    "num2=int(num1)\n",
    "for j in range(100):\n",
    "    j=j*num2\n",
    "    TP=0\n",
    "    FP=0\n",
    "    data_b['Y_Pred'] = data_b.apply(lambda row:label(row.proba,Y_Sorted[j]),axis=1)\n",
    "    print(Y_Sorted[j])\n",
    "    for i in range(len(data_b.Y_Pred)):\n",
    "            if data_b.iloc[i][0]==0 and data_b.iloc[i][2]==1:\n",
    "                FP=FP+1\n",
    "            elif data_b.iloc[i][0]==1 and data_b.iloc[i][2]==1:\n",
    "                TP=TP+1   \n",
    "    TPR.append(TP/P)\n",
    "    FPR.append(FP/N)\n",
    "print(TPR)\n",
    "print(FPR)"
   ]
  },
  {
   "cell_type": "code",
   "execution_count": 74,
   "metadata": {},
   "outputs": [
    {
     "name": "stdout",
     "output_type": "stream",
     "text": [
      "AUC Score\n",
      "0.926321\n"
     ]
    },
    {
     "name": "stderr",
     "output_type": "stream",
     "text": [
      "No handles with labels found to put in legend.\n"
     ]
    },
    {
     "data": {
      "text/plain": [
       "<matplotlib.legend.Legend at 0x1af60335940>"
      ]
     },
     "execution_count": 74,
     "metadata": {},
     "output_type": "execute_result"
    },
    {
     "data": {
      "image/png": "[encoded data removed]",
      "text/plain": [
       "<Figure size 432x288 with 1 Axes>"
      ]
     },
     "metadata": {
      "needs_background": "light"
     },
     "output_type": "display_data"
    }
   ],
   "source": [
    "#AUC SCORE\n",
    "print('AUC Score')\n",
    "AUC=np.trapz(TPR,FPR)\n",
    "print(AUC)\n",
    "plt.plot(FPR,TPR)\n",
    "plt.grid()\n",
    "plt.xlabel('FPR')\n",
    "plt.ylabel('TPR')\n",
    "plt.legend()"
   ]
  },
  {
   "cell_type": "markdown",
   "metadata": {},
   "source": [
    "# Task C"
   ]
  },
  {
   "cell_type": "markdown",
   "metadata": {
    "colab_type": "text",
    "id": "GiPGonTzQvoB"
   },
   "source": [
    "<font color='red'><b>C.</b></font> Compute the best threshold (similarly to ROC curve computation) of probability which gives lowest values of metric <b>A</b> for the given data <strong>5_c.csv</strong>\n",
    "<br>\n",
    "\n",
    "you will be predicting label of a data points like this: $y^{pred}= \\text{[0 if y_score < threshold  else 1]}$\n",
    "\n",
    "$ A = 500 \\times \\text{number of false negative} + 100 \\times \\text{numebr of false positive}$\n",
    "\n",
    "<pre>\n",
    "   <b>Note 1:</b> in this data you can see number of negative points > number of positive points\n",
    "   <b>Note 2:</b> use pandas or numpy to read the data from <b>5_c.csv</b>\n",
    "</pre>"
   ]
  },
  {
   "cell_type": "code",
   "execution_count": 4,
   "metadata": {},
   "outputs": [],
   "source": [
    "from tqdm import tqdm_notebook\n",
    "data_c=pd.read_csv('5_c.csv')\n",
    "#data_c.head\n",
    "#data_c.shape[0]"
   ]
  },
  {
   "cell_type": "code",
   "execution_count": 5,
   "metadata": {},
   "outputs": [
    {
     "name": "stdout",
     "output_type": "stream",
     "text": [
      "Occurence of P,  1047\n",
      "Occurence of N,  1805\n",
      "Occurence of Prob,  0.839377    4\n",
      "0.672003    3\n",
      "0.596618    3\n",
      "0.704297    2\n",
      "0.123316    2\n",
      "           ..\n",
      "0.315248    1\n",
      "0.355742    1\n",
      "0.214257    1\n",
      "0.190617    1\n",
      "0.332771    1\n",
      "Name: prob, Length: 2791, dtype: int64\n"
     ]
    }
   ],
   "source": [
    "s = data_c['y'].value_counts()#Actual Labels\n",
    "print(\"Occurence of P, \",s[1])\n",
    "print(\"Occurence of N, \",s[0])\n",
    "b = data_c['prob'].value_counts()# Predicted Labels\n",
    "print(\"Occurence of Prob, \",b)"
   ]
  },
  {
   "cell_type": "code",
   "execution_count": 6,
   "metadata": {},
   "outputs": [
    {
     "data": {
      "text/html": [
       "<div>\n",
       "<style scoped>\n",
       "    .dataframe tbody tr th:only-of-type {\n",
       "        vertical-align: middle;\n",
       "    }\n",
       "\n",
       "    .dataframe tbody tr th {\n",
       "        vertical-align: top;\n",
       "    }\n",
       "\n",
       "    .dataframe thead th {\n",
       "        text-align: right;\n",
       "    }\n",
       "</style>\n",
       "<table border=\"1\" class=\"dataframe\">\n",
       "  <thead>\n",
       "    <tr style=\"text-align: right;\">\n",
       "      <th></th>\n",
       "      <th>y</th>\n",
       "      <th>prob</th>\n",
       "      <th>proba</th>\n",
       "    </tr>\n",
       "  </thead>\n",
       "  <tbody>\n",
       "    <tr>\n",
       "      <td>0</td>\n",
       "      <td>0</td>\n",
       "      <td>0.458521</td>\n",
       "      <td>0</td>\n",
       "    </tr>\n",
       "    <tr>\n",
       "      <td>1</td>\n",
       "      <td>0</td>\n",
       "      <td>0.505037</td>\n",
       "      <td>1</td>\n",
       "    </tr>\n",
       "    <tr>\n",
       "      <td>2</td>\n",
       "      <td>0</td>\n",
       "      <td>0.418652</td>\n",
       "      <td>0</td>\n",
       "    </tr>\n",
       "    <tr>\n",
       "      <td>3</td>\n",
       "      <td>0</td>\n",
       "      <td>0.412057</td>\n",
       "      <td>0</td>\n",
       "    </tr>\n",
       "    <tr>\n",
       "      <td>4</td>\n",
       "      <td>0</td>\n",
       "      <td>0.375579</td>\n",
       "      <td>0</td>\n",
       "    </tr>\n",
       "    <tr>\n",
       "      <td>5</td>\n",
       "      <td>0</td>\n",
       "      <td>0.595387</td>\n",
       "      <td>1</td>\n",
       "    </tr>\n",
       "    <tr>\n",
       "      <td>6</td>\n",
       "      <td>0</td>\n",
       "      <td>0.370288</td>\n",
       "      <td>0</td>\n",
       "    </tr>\n",
       "    <tr>\n",
       "      <td>7</td>\n",
       "      <td>0</td>\n",
       "      <td>0.299273</td>\n",
       "      <td>0</td>\n",
       "    </tr>\n",
       "    <tr>\n",
       "      <td>8</td>\n",
       "      <td>0</td>\n",
       "      <td>0.297000</td>\n",
       "      <td>0</td>\n",
       "    </tr>\n",
       "    <tr>\n",
       "      <td>9</td>\n",
       "      <td>0</td>\n",
       "      <td>0.266479</td>\n",
       "      <td>0</td>\n",
       "    </tr>\n",
       "  </tbody>\n",
       "</table>\n",
       "</div>"
      ],
      "text/plain": [
       "   y      prob  proba\n",
       "0  0  0.458521      0\n",
       "1  0  0.505037      1\n",
       "2  0  0.418652      0\n",
       "3  0  0.412057      0\n",
       "4  0  0.375579      0\n",
       "5  0  0.595387      1\n",
       "6  0  0.370288      0\n",
       "7  0  0.299273      0\n",
       "8  0  0.297000      0\n",
       "9  0  0.266479      0"
      ]
     },
     "execution_count": 6,
     "metadata": {},
     "output_type": "execute_result"
    }
   ],
   "source": [
    "def partition(c,x):\n",
    "    if x < c:\n",
    "        return 0\n",
    "    return 1\n",
    "pre = data_c['prob']\n",
    "f = lambda lst: partition(0.5,lst)\n",
    "p = pre.map(f)\n",
    "data_c['proba'] = p\n",
    "data_c.head(10)"
   ]
  },
  {
   "cell_type": "code",
   "execution_count": 7,
   "metadata": {},
   "outputs": [],
   "source": [
    "def para(data_c):\n",
    "    p=0\n",
    "    n=0\n",
    "    fn=0\n",
    "    fp=0\n",
    "    for i in range(data_c.shape[0]):\n",
    "        if data_c['y'][i]==data_c['prob'][i]:\n",
    "            if data_c['y'][i]==1:\n",
    "                p+=1\n",
    "            else:\n",
    "                n+=1\n",
    "        else:\n",
    "            if data_c['y'][i]==1:\n",
    "                fn+=1\n",
    "            else:\n",
    "                fp+=1\n",
    "    return(p,n,fn,fp)\n",
    "\n",
    "\n",
    "def metric(data_c,uni):\n",
    "    s = data_c['y'].value_counts()\n",
    "    a = []\n",
    "    for el in tqdm_notebook(uni):\n",
    "        dx = data_c.copy()\n",
    "        pre = dx['prob']\n",
    "        f = lambda lst: partition(el,lst)\n",
    "        h = pre.map(f)\n",
    "        dx['prob'] = h\n",
    "        p,n,fp,fn=para(dx)\n",
    "        a.append(500*fp+100*fn)\n",
    "    \n",
    "    return uni[a.index(min(a))],min(a)"
   ]
  },
  {
   "cell_type": "code",
   "execution_count": 8,
   "metadata": {},
   "outputs": [
    {
     "name": "stdout",
     "output_type": "stream",
     "text": [
      "      y      prob  proba\n",
      "2634  1  0.957747      1\n",
      "2548  1  0.951437      1\n",
      "2447  1  0.948638      1\n",
      "2788  1  0.944094      1\n",
      "2456  1  0.941113      1\n",
      "2469  1  0.921611      1\n",
      "2599  1  0.918113      1\n",
      "2515  1  0.916364      1\n",
      "2294  1  0.913375      1\n",
      "2702  1  0.913280      1\n",
      "0.9577467989277196\n",
      "0.9514369163158778\n",
      "0.9486377939984604\n",
      "0.9440936134070964\n",
      "0.9411131844327256\n",
      "2791\n"
     ]
    }
   ],
   "source": [
    "data_c = data_c.sort_values(by='prob',ascending=False)\n",
    "print(data_c.head(10))\n",
    "uni = list(data_c.prob.unique())\n",
    "uni.sort(reverse=True)\n",
    "for i in range(5):\n",
    "    print(uni[i])\n",
    "print(len(uni))\n",
    "data_c = pd.read_csv(\"5_c.csv\")"
   ]
  },
  {
   "cell_type": "code",
   "execution_count": 9,
   "metadata": {},
   "outputs": [
    {
     "data": {
      "application/vnd.jupyter.widget-view+json": {
       "model_id": "57bb4cd0b15541039098175e9ab0f9f5",
       "version_major": 2,
       "version_minor": 0
      },
      "text/plain": [
       "HBox(children=(IntProgress(value=0, max=2791), HTML(value='')))"
      ]
     },
     "metadata": {},
     "output_type": "display_data"
    },
    {
     "name": "stdout",
     "output_type": "stream",
     "text": [
      "\n",
      "Threshold and the value of the min metric are as follows resp.\n",
      "0.2300390278970873 141000\n"
     ]
    }
   ],
   "source": [
    "low,b=metric(data_c,uni)\n",
    "print(\"Threshold and the value of the min metric are as follows resp.\")\n",
    "print(low,b)"
   ]
  },
  {
   "cell_type": "markdown",
   "metadata": {
    "colab": {},
    "colab_type": "code",
    "id": "x5HIJzq1QvoE"
   },
   "source": [
    "# Task D \n",
    "# MSE MAPE RSquare Error"
   ]
  },
  {
   "cell_type": "markdown",
   "metadata": {
    "colab_type": "text",
    "id": "sD4CcgjXQvoL"
   },
   "source": [
    "<pre>\n",
    "<font color='red'><b>D.</b></font> Compute performance metrics(for regression) for the given data <strong>5_d.csv</strong>\n",
    "    <b>Note 2:</b> use pandas or numpy to read the data from <b>5_d.csv</b>\n",
    "    <b>Note 1:</b> <b>5_d.csv</b> will having two columns Y and predicted_Y both are real valued features\n",
    "<ol>\n",
    "<li> Compute Mean Square Error </li>\n",
    "<li> Compute MAPE: https://www.youtube.com/watch?v=ly6ztgIkUxk</li>\n",
    "<li> Compute R^2 error: https://en.wikipedia.org/wiki/Coefficient_of_determination#Definitions </li>\n",
    "</ol>\n",
    "</pre>"
   ]
  },
  {
   "cell_type": "code",
   "execution_count": 43,
   "metadata": {},
   "outputs": [
    {
     "name": "stdout",
     "output_type": "stream",
     "text": [
      "177.16569974554707\n"
     ]
    }
   ],
   "source": [
    "#MSE\n",
    "data_d=pd.read_csv('5_d.csv')\n",
    "data_d['Y_err'] = data_d.apply(lambda row:(row.y)-(row.pred),axis=1)\n",
    "data_d.head()\n",
    "soe=0\n",
    "for i in range(len(data_d.Y_err)):\n",
    "    soe=soe+((data_d.Y_err[i])*(data_d.Y_err[i]))\n",
    "MSE=(soe/len(data_d.Y_err))\n",
    "print(MSE)\n"
   ]
  },
  {
   "cell_type": "code",
   "execution_count": 46,
   "metadata": {},
   "outputs": [
    {
     "name": "stdout",
     "output_type": "stream",
     "text": [
      "10463560.0 66.56208651399491\n",
      "638161080.035662 \n",
      "\n",
      "0.9563582786990964\n"
     ]
    }
   ],
   "source": [
    "#R Sqaure Error\n",
    "Sum=0\n",
    "SS=0\n",
    "for i in range(len(data_d.y)):\n",
    "    Sum=Sum+data_d.y[i]\n",
    "Avg=Sum/(len(data_d.y))  #computing Average\n",
    "print(Sum,Avg)\n",
    "data_d['Y_SS'] = data_d.apply(lambda row:(row.y)-(Avg),axis=1)#computing (y-y_Avg)\n",
    "data_d.head()\n",
    "for i in range(len(data_d.y)):\n",
    "    SS=SS+(data_d.Y_SS[i])*(data_d.Y_SS[i])#sum of sq (y-y_Avg)\n",
    "print(SS,'\\n')\n",
    "R2=1-(soe/SS)#computing R-square\n",
    "print(R2)"
   ]
  },
  {
   "cell_type": "code",
   "execution_count": 51,
   "metadata": {},
   "outputs": [
    {
     "name": "stdout",
     "output_type": "stream",
     "text": [
      "1351058.0\n",
      "0.1291202994009687\n"
     ]
    }
   ],
   "source": [
    "#MAPE\n",
    "data_d = pd.read_csv(\"5_d.csv\") \n",
    "data_d['Y_err'] = data_d.apply(lambda row:(row.y)-(row.pred),axis=1)#computing (y-y_pred)\n",
    "data_d.head()\n",
    "SOE=0\n",
    "for i in range(len(data_d.Y_err)):\n",
    "    SOE=SOE+abs(data_d.Y_err[i])#sum of sq (y-y_pred)\n",
    "MAPE=(SOE/(Sum))#MAPe\n",
    "print(SOE)\n",
    "print(MAPE)\n",
    "    "
   ]
  },
  {
   "cell_type": "code",
   "execution_count": 53,
   "metadata": {},
   "outputs": [
    {
     "data": {
      "text/html": [
       "<div>\n",
       "<style scoped>\n",
       "    .dataframe tbody tr th:only-of-type {\n",
       "        vertical-align: middle;\n",
       "    }\n",
       "\n",
       "    .dataframe tbody tr th {\n",
       "        vertical-align: top;\n",
       "    }\n",
       "\n",
       "    .dataframe thead th {\n",
       "        text-align: right;\n",
       "    }\n",
       "</style>\n",
       "<table border=\"1\" class=\"dataframe\">\n",
       "  <thead>\n",
       "    <tr style=\"text-align: right;\">\n",
       "      <th></th>\n",
       "      <th>y</th>\n",
       "      <th>pred</th>\n",
       "      <th>Y_err</th>\n",
       "    </tr>\n",
       "  </thead>\n",
       "  <tbody>\n",
       "    <tr>\n",
       "      <td>0</td>\n",
       "      <td>101.0</td>\n",
       "      <td>100.0</td>\n",
       "      <td>1.0</td>\n",
       "    </tr>\n",
       "    <tr>\n",
       "      <td>1</td>\n",
       "      <td>120.0</td>\n",
       "      <td>100.0</td>\n",
       "      <td>20.0</td>\n",
       "    </tr>\n",
       "    <tr>\n",
       "      <td>2</td>\n",
       "      <td>131.0</td>\n",
       "      <td>113.0</td>\n",
       "      <td>18.0</td>\n",
       "    </tr>\n",
       "    <tr>\n",
       "      <td>3</td>\n",
       "      <td>164.0</td>\n",
       "      <td>125.0</td>\n",
       "      <td>39.0</td>\n",
       "    </tr>\n",
       "    <tr>\n",
       "      <td>4</td>\n",
       "      <td>154.0</td>\n",
       "      <td>152.0</td>\n",
       "      <td>2.0</td>\n",
       "    </tr>\n",
       "  </tbody>\n",
       "</table>\n",
       "</div>"
      ],
      "text/plain": [
       "       y   pred  Y_err\n",
       "0  101.0  100.0    1.0\n",
       "1  120.0  100.0   20.0\n",
       "2  131.0  113.0   18.0\n",
       "3  164.0  125.0   39.0\n",
       "4  154.0  152.0    2.0"
      ]
     },
     "execution_count": 53,
     "metadata": {},
     "output_type": "execute_result"
    }
   ],
   "source": [
    "data_d.head()"
   ]
  }
 ],
 "metadata": {
  "colab": {
   "collapsed_sections": [],
   "name": "5_Performance_metrics_Instructions.ipynb",
   "provenance": [],
   "version": "0.3.2"
  },
  "kernelspec": {
   "display_name": "Python 3",
   "language": "python",
   "name": "python3"
  },
  "language_info": {
   "codemirror_mode": {
    "name": "ipython",
    "version": 3
   },
   "file_extension": ".py",
   "mimetype": "text/x-python",
   "name": "python",
   "nbconvert_exporter": "python",
   "pygments_lexer": "ipython3",
   "version": "3.6.8"
  }
 },
 "nbformat": 4,
 "nbformat_minor": 1
}
